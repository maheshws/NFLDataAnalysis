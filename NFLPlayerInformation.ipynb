{
 "cells": [
  {
   "cell_type": "markdown",
   "metadata": {},
   "source": [
    "The scope of ETL project is as follows:\n",
    "We have NFL player data from Wikipedia , Kaggle and Data.World and would want information on players who made it Pro-Bowl from 2017 to 1997\n",
    "1. So we get the players name(list) from Wikipedia for each year's probowl selection ( Check pages from 2017--1997)\n",
    "2. Once we get the information for 30 years of data , we remove the duplicates\n",
    "3. then we join the player name with information ( csv file and spreadsheet from Kaggle and Data.World) to get additional information on the player.\n",
    "4. We clean the data\n",
    "5. We save the data to a cloud database and expose it as REST API's..\n"
   ]
  },
  {
   "cell_type": "code",
   "execution_count": 47,
   "metadata": {},
   "outputs": [],
   "source": [
    "# Import BeautifulSoup\n",
    "from bs4 import BeautifulSoup\n",
    "import pandas as pd\n",
    "import re\n",
    "import time"
   ]
  },
  {
   "cell_type": "code",
   "execution_count": 48,
   "metadata": {},
   "outputs": [],
   "source": [
    "# Import Splinter and set the chromedriver path\n",
    "from splinter import Browser\n",
    "executable_path = {\"executable_path\": \"chromedriver.exe\"}\n",
    "browser = Browser(\"chrome\", **executable_path, headless=False)"
   ]
  },
  {
   "cell_type": "code",
   "execution_count": 49,
   "metadata": {},
   "outputs": [],
   "source": [
    "base_url = 'https://en.wikipedia.org/wiki/'\n",
    "player_info = []"
   ]
  },
  {
   "cell_type": "code",
   "execution_count": 50,
   "metadata": {},
   "outputs": [
    {
     "name": "stdout",
     "output_type": "stream",
     "text": [
      "['Green Bay Packers', 'Terrell Davis', 'Mike Alstott', 'Herman Moore', 'Shannon Sharpe', 'Tony Boselli', 'Larry Allen', 'Dermontti Dawson', 'Richie Cunningham', 'Bryan Barker', 'Michael Bates', 'Bruce Smith', 'John Randle', 'Levon Kirkland', 'Jessie Armstead', 'Deion Sanders', 'LeRoy Butler', 'Randall Cunningham', 'Randy Moss', 'Randall McDaniel', 'Gary Anderson', 'Craig Hentrich', 'Jermaine Lewis', 'Reggie White', 'Junior Seau', 'Chad Brown', 'Kurt Warner', 'Marshall Faulk', 'Marvin Harrison', 'Tony Gonzalez', 'Kevin Mawae', 'Olindo Mare', 'Mitch Berger', 'Tony Horne', 'Kevin Carter', 'Warren Sapp', 'Ray Lewis', 'Derrick Brooks', 'Sam Madison', 'John Lynch', 'Rich Gannon', 'Jonathan Ogden', 'Tom Nalen', 'Matt Stover', 'Shane Lechler', 'Derrick Mason', 'Jason Taylor', 'Terrell Owens', 'Orlando Pace', 'David Akers', 'Todd Sauerbrun', 'Steve Smith', 'Michael Strahan', 'Brian Urlacher', 'Jamir Miller', 'Aeneas Williams', 'Brian Dawkins', 'Priest Holmes', 'Jeremy Shockey', 'Alan Faneca', 'Barrett Robbins', 'Adam Vinatieri', 'Michael Lewis', 'Patrick Surtain', 'Peyton Manning', 'Torry Holt', 'Steve Hutchinson', 'Mike Vanderjagt', 'Dante Hall', 'Kris Jenkins', 'Julian Peterson', 'Ty Law', 'Roy Williams', 'Curtis Martin', 'Antonio Gates', 'Walter Jones', 'Jeff Hartings', 'Eddie Drummond', 'Dwight Freeney', 'Kevin Williams', 'James Farrior', 'Takeo Spikes', 'Champ Bailey', 'Ed Reed', 'Shaun Alexander', 'Jeff Saturday', 'Neil Rackers', 'Brian Moorman', 'Jerome Mathis', 'Richard Seymour', 'Lance Briggs', 'Troy Polamalu', 'Drew Brees', 'LaDainian Tomlinson', 'Jammal Brown', 'Olin Kreutz', 'Robbie Gould', 'Devin Hester', 'Jamal Williams', 'Adalius Thomas', 'Tom Brady', 'Lorenzo Neal', 'Jason Witten', 'Rob Bironas', 'Andy Lee', 'Kassim Osgood', 'Jared Allen', 'Albert Haynesworth', 'DeMarcus Ware', 'Asante Samuel', 'Bob Sanders', 'Adrian Peterson', \"Le'Ron McClain\", 'Andre Johnson', 'Jordan Gross', 'Stephen Gostkowski', 'Leon Washington', 'Johnnie Lee Higgins', 'Brendon Ayanbadejo', 'Justin Tuck', 'Nnamdi Asomugha', 'Chris Johnson', 'Leonard Weaver', 'Dallas Clark', 'Ryan Clady', 'Nick Mangold', 'Nate Kaeding', 'Josh Cribbs', 'DeSean Jackson', 'Elvis Dumervil', 'Patrick Willis', 'Charles Woodson', 'Darren Sharper', 'Arian Foster', 'Vonta Leach', 'Roddy White', 'Joe Thomas', 'Jahri Evans', 'Billy Cundiff', 'Eric Weems', 'Julius Peppers', 'Haloti Ngata', 'Clay Matthews III', 'Jerod Mayo', 'Darrelle Revis', 'Aaron Rodgers', 'Maurice Jones-Drew', 'Calvin Johnson', 'Rob Gronkowski', 'Jason Peters', 'Maurkice Pouncey', 'Patrick Peterson', 'Matthew Slater', 'Terrell Suggs', 'Duane Brown', 'Mike Iupati', 'Max Unger', 'Blair Walsh', 'Jacoby Jones', 'Leodis McKelvin', 'J. J. Watt', 'Geno Atkins', 'Von Miller', 'Richard Sherman', 'Earl Thomas', 'LeSean McCoy', 'Mike Tolbert', 'Jimmy Graham', 'Louis Vasquez', 'Ryan Kalil', 'Justin Tucker', 'John Hekker', 'Cordarrelle Patterson', 'Justin Bethel', 'Gerald McCoy', 'Robert Mathis', 'Luke Kuechly', 'DeMarco Murray', 'John Kuhn', 'Antonio Brown', 'Tyron Smith', 'Marshal Yanda', 'Travis Frederick', 'Pat McAfee', 'Adam Jones', 'Ndamukong Suh', 'Justin Houston', 'Cam Newton', 'Johnny Hekker', 'Tyler Lockett', 'Aaron Donald', 'Josh Norman', 'Tyrann Mathieu', 'Matt Ryan', 'Ezekiel Elliott', 'David Johnson', 'Travis Kelce', 'Kelechi Osemele', 'Zack Martin', 'Jack Conklin', 'Tyreek Hill', 'Khalil Mack', 'Aqib Talib', 'Landon Collins', 'Chris Harris, Jr.', 'Todd Gurley', \"Le'Veon Bell\", 'Andrew Whitworth', 'Andrew Norwell', 'Jason Kelce', 'David DeCastro', 'Lane Johnson', 'Greg Zuerlein', 'Pharoh Cooper', 'Jamal Agnew', 'Budda Baker', 'Calais Campbell', 'Chandler Jones', 'Jalen Ramsey', 'Kevin Byard', 'Darius Slay']\n"
     ]
    }
   ],
   "source": [
    "# Visit the following URL\n",
    "# Our scope is All-Pro-Team from 1997 to 2017\n",
    "nflseason_year = 1997\n",
    "while nflseason_year < 2018:\n",
    "    url = base_url + str(nflseason_year)+'_All-Pro_Team'\n",
    "    browser.visit(url)\n",
    "    time.sleep(3)\n",
    "    #getting the html content from the browser instance launched using splinter\n",
    "    html=browser.html\n",
    "    #scrape the web page using beautiful soup and lxml parser\n",
    "    soup = BeautifulSoup(html, 'lxml')\n",
    "    player_tableColl = soup.find_all('table', class_='wikitable')\n",
    "    for table in player_tableColl:\n",
    "        tr_coll = table.find_all('tr')\n",
    "        for item in tr_coll:\n",
    "            data = item.find_all(['th','td'])\n",
    "            if data:\n",
    "                try:\n",
    "                    position = data[0].a.text\n",
    "                    player = data[1].a.text\n",
    "                    if player not in player_info:\n",
    "                        player_info.append(player)\n",
    "                except Exception:pass                \n",
    "    nflseason_year = nflseason_year + 1\n",
    "    \n",
    "#print the dictionary\n",
    "print(player_info)\n",
    "    "
   ]
  },
  {
   "cell_type": "code",
   "execution_count": null,
   "metadata": {},
   "outputs": [],
   "source": []
  }
 ],
 "metadata": {
  "kernelspec": {
   "display_name": "Python 3",
   "language": "python",
   "name": "python3"
  },
  "language_info": {
   "codemirror_mode": {
    "name": "ipython",
    "version": 3
   },
   "file_extension": ".py",
   "mimetype": "text/x-python",
   "name": "python",
   "nbconvert_exporter": "python",
   "pygments_lexer": "ipython3",
   "version": "3.6.10"
  },
  "varInspector": {
   "cols": {
    "lenName": 16,
    "lenType": 16,
    "lenVar": 40
   },
   "kernels_config": {
    "python": {
     "delete_cmd_postfix": "",
     "delete_cmd_prefix": "del ",
     "library": "var_list.py",
     "varRefreshCmd": "print(var_dic_list())"
    },
    "r": {
     "delete_cmd_postfix": ") ",
     "delete_cmd_prefix": "rm(",
     "library": "var_list.r",
     "varRefreshCmd": "cat(var_dic_list()) "
    }
   },
   "types_to_exclude": [
    "module",
    "function",
    "builtin_function_or_method",
    "instance",
    "_Feature"
   ],
   "window_display": false
  }
 },
 "nbformat": 4,
 "nbformat_minor": 2
}
